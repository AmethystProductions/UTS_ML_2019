{
  "nbformat": 4,
  "nbformat_minor": 0,
  "metadata": {
    "colab": {
      "name": "A3 Memes and Marketing",
      "provenance": [],
      "include_colab_link": true
    },
    "kernelspec": {
      "name": "python3",
      "display_name": "Python 3"
    }
  },
  "cells": [
    {
      "cell_type": "markdown",
      "metadata": {
        "id": "view-in-github",
        "colab_type": "text"
      },
      "source": [
        "<a href=\"https://colab.research.google.com/github/AmethystProductions/UTS_ML_2019/blob/master/A3_Memes_and_Marketing.ipynb\" target=\"_parent\"><img src=\"https://colab.research.google.com/assets/colab-badge.svg\" alt=\"Open In Colab\"/></a>"
      ]
    },
    {
      "cell_type": "markdown",
      "metadata": {
        "id": "4QQ-6tshfuVb",
        "colab_type": "text"
      },
      "source": [
        "# Introduction\n",
        "Memes, as we know them today, can be considered as the language of the internet. If one is able to generate a successful meme, the virality of the spread would drastically increase the traffic of your site and can enable names and brands to reach places beyond their existing influences, allowing them to expand. To be able to control and actively utilise memes as a means of advertisement is a lot of power to have for any company or brand, but the fact that this hasn't been achieved so far makes the difficulty of this problem quite apparent.\n",
        "\n",
        "## What are the difficulties?\n",
        "First and most crucial issue to tackle is humans engagement. The spread of a meme relies on people, generally requiring the content of the meme to resonate with people on some level. Some companies have achieved this to a degree, such as Wendy's (fast food chain) twitter account, which was relatively successful in its endeavours through employing people who understands internet culture as the spokespeople behind their twitter (wendys_irl, 2017). This however, does not translate well algorithmically, because it would require algorithms to not just understand human emotions and responses to concepts and ideas, but also understand the context around the meme to predict its popularity.\n",
        "\n",
        "Secondly, memes can sometimes take a long time gain traction. For example, the Patrick Star Wallet meme has been around since 2010s, but did not gain traction under 2016 (Adam, 2017). This means that although something can have the potential to spread as a meme, the process may take much longer than expected and could ultimately take too long for it to be useful as a marketing tool.\n",
        "\n",
        "Perhaps the most crucial problem is that internet meme culture have adopted a very anti-corporation ideologue (Literat I. et al, 2019), thus attempting to utilise memes as a form of marketing is in essence somewhat self-contradictory and attempting to guarantee any form of stable success is likely impossible to achieve.\n",
        "\n",
        "## What can we attempt?\n",
        "There are a few ways to approach this from an algorithmic standpoint. For messages prediction, there have been existing work on predicting whether how much retweets a twitter message can get through the use of a regression classifier, with varying degrees of success (Hong L. et al, 2011). \n",
        "As for creating a successful tweet, one way to approach it is through utilising existing popular memes, and readopting it in a more relevant format for advertising purposes. This can be done by finding reoccurring and/or current memes through scraping reddit.com and knowyourmeme.net. \n",
        "\n",
        "The two methods mentioned above can be used as the main method by themselves. Alternatively, they can serve as a starting point for a neural network to train. Of course, the downside of training a neural network would likely require an unaffiliated account starting from scratch, which may prove to be more difficult to produce results in a short term. However, bots generating meme image have gained traction on twitter previously, such as the case with ShitpostBot 5000 (NekoThePony, 2017).\n",
        "\n",
        "## How can we verify?\n",
        "I would consider this whole project to be a NP scale problem, as it is much easier to verify than it is to devise a solution for. The simplest way to verify the success of any proposed solution is just to compare the actual result to the predictions being made by the algorithm. Of course, we can look more in depth into the general reaction to the meme itself, possibly through the use of emotion modelling of responses and general twitter sentiment through the use of sentimental analysis (Bollen J. et al, 2011) to tract what factors could have possibly contributed to the success and failures of each tweet.\n",
        "\n",
        "\n",
        "## Social and ethical Implications\n",
        "There are several concerns when it comes to the topic of corporate advertisement. In this case particularly, there are many issues with privacy, as doing analysis on how well the proposed methods will perform would require massive amounts of data collection to do different types of analysis. \n",
        "\n",
        "But the larger concern would be the concept itself. Having the power to control the spread of tweets as memes is too much for a corporation to handle. A possible scenario would involve brands using this power to manipulate the consumer base, in fact, this could possibly lead to the usage of such technology for political gains, a memes have a huge sway on internet perceptions in the modern error. Although one could argue that this already happens to an extent in our existing state, this would significantly amplify the problem as we know it.\n",
        "\n",
        "\n",
        "# Link\n",
        "https://github.com/AmethystProductions/UTS_ML_2019/blob/master/A3_Memes_and_Marketing.ipynb\n",
        "\n",
        "# References\n",
        "\n",
        "wendys_irl 2017, 'We are the team behind the Wendy’s Twitter account. Ask Us Anything!', forum post, Reddit, 15 December 2017, viewed 8 October 2019, <https://www.reddit.com/r/IAmA/comments/7jsvm6/we_are_the_team_behind_the_wendys_twitter_account/>\n",
        "\n",
        "Adam 2017, Patrick Star's Wallet meme, Know Your Meme, viewed 9th October 2019, <https://knowyourmeme.com/memes/patrick-stars-wallet>\n",
        "\n",
        "NekoThePony 2017, ShitpostBot 5000 meme, Know Your Meme, viewed 9th October 2019, <https://knowyourmeme.com/memes/sites/shitpostbot-5000>\n",
        "\n",
        "Bollen, J., Mao, H. and Pepe, A., 2011, July. Modeling public mood and emotion: Twitter sentiment and socio-economic phenomena. In Fifth International AAAI Conference on Weblogs and Social Media.\n",
        "\n",
        "Literat, I. and van den Berg, S., 2019. Buy memes low, sell memes high: Vernacular criticism and collective negotiations of value on Reddit’s MemeEconomy. Information, Communication & Society, 22(2), pp.232-249.\n",
        "\n",
        "Hong, L., Dan, O. and Davison, B.D., 2011, March. Predicting popular messages in twitter. In Proceedings of the 20th international conference companion on World wide web (pp. 57-58). ACM."
      ]
    }
  ]
}