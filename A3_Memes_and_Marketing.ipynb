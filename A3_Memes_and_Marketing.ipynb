{
  "nbformat": 4,
  "nbformat_minor": 0,
  "metadata": {
    "colab": {
      "name": "A3 Memes and Marketing",
      "provenance": [],
      "include_colab_link": true
    },
    "kernelspec": {
      "name": "python3",
      "display_name": "Python 3"
    }
  },
  "cells": [
    {
      "cell_type": "markdown",
      "metadata": {
        "id": "view-in-github",
        "colab_type": "text"
      },
      "source": [
        "<a href=\"https://colab.research.google.com/github/AmethystProductions/UTS_ML_2019/blob/master/A3_Memes_and_Marketing.ipynb\" target=\"_parent\"><img src=\"https://colab.research.google.com/assets/colab-badge.svg\" alt=\"Open In Colab\"/></a>"
      ]
    },
    {
      "cell_type": "markdown",
      "metadata": {
        "id": "4QQ-6tshfuVb",
        "colab_type": "text"
      },
      "source": [
        "# Introduction\n",
        "Memes, as we know them today, can be considered as the language of the internet. If one is able to generate a successful meme, the virality of the spread would drastically increase the traffic of your site and can enable names and brands to reach places beyond their existing influences, allowing them to expand. To be able to control and actively utilise memes as a means of advertisement is a lot of power to have for any company or brand, but the fact that this hasn't been achieved so far makes the difficulty of this problem quite apparent.\n",
        "\n",
        "Controlling the spread of a meme would be a NP problem."
      ]
    }
  ]
}