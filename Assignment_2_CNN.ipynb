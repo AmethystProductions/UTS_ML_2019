{
  "nbformat": 4,
  "nbformat_minor": 0,
  "metadata": {
    "colab": {
      "name": "Assignment 2 - CNN",
      "provenance": [],
      "collapsed_sections": [],
      "include_colab_link": true
    },
    "kernelspec": {
      "name": "python3",
      "display_name": "Python 3"
    },
    "accelerator": "GPU"
  },
  "cells": [
    {
      "cell_type": "markdown",
      "metadata": {
        "id": "view-in-github",
        "colab_type": "text"
      },
      "source": [
        "<a href=\"https://colab.research.google.com/github/AmethystProductions/UTS_ML_2019/blob/master/Assignment_2_CNN.ipynb\" target=\"_parent\"><img src=\"https://colab.research.google.com/assets/colab-badge.svg\" alt=\"Open In Colab\"/></a>"
      ]
    },
    {
      "cell_type": "markdown",
      "metadata": {
        "id": "HsTmiG92a-7q",
        "colab_type": "text"
      },
      "source": [
        "# Convolution Neural Network\n",
        "\n",
        "A Convolution Neural Network (CNN) is a multilayer perception that's generally used for analysing and classifying images.\n",
        "\n",
        "\n",
        "Different CNN architectures takes different steps at different orders, for example LeNet goes through the process of:\n",
        "\n",
        "- input\n",
        "- convolution\n",
        "- pooling\n",
        "- convolution\n",
        "- pooling\n",
        "- flattened convolution\n",
        "- fully connected\n",
        "\n",
        "\n",
        "with each step taking the outputs of previous steps as input and producing a classification of the image. The result is then evaluated in training and the loss is calculated and passed back through each layer for the CNN for figure out the best filter to extract features out of the inputs.\n",
        "\n",
        "\n",
        "For this project, I'll be making a simple CNN algorithm involves the steps as follows:\n",
        "\n",
        "- input \n",
        "- convolution\n",
        "- pooling\n",
        "- fully connected\n"
      ]
    },
    {
      "cell_type": "markdown",
      "metadata": {
        "id": "n-A-1qFlvbQk",
        "colab_type": "text"
      },
      "source": [
        "## Inputs and Outputs\n",
        "\n",
        "The inputs for a CNN is generally a series of images which are converted into a 2d array. In this project, I used the [MNIST dataset](http://yann.lecun.com/exdb/mnist/), imported from [pypi](https://pypi.org/project/mnist/) for handwritten digits as they have 10k samples, allowing me to train with great accuracy.\n",
        "\n",
        "the outputs of the program is is the prediction, loss, and accuracy of a model that can relatively accurately predict handwritten numerical characters."
      ]
    },
    {
      "cell_type": "markdown",
      "metadata": {
        "id": "SLKFo9oD3ord",
        "colab_type": "text"
      },
      "source": [
        "## Setup\n",
        "\n",
        "First, the required libraries are imported and setup, and a demonstration of the MNIST dataset is shown to ensure the data is correct to understand what we're working with."
      ]
    },
    {
      "cell_type": "code",
      "metadata": {
        "id": "mJ4IjNMCK6Xw",
        "colab_type": "code",
        "outputId": "9eb83fd9-d6f6-4cdb-eef8-5a4483ca9615",
        "colab": {
          "base_uri": "https://localhost:8080/",
          "height": 340
        }
      },
      "source": [
        "!pip install mnist\n",
        "import mnist\n",
        "import numpy as np\n",
        "import matplotlib.pyplot as plt\n",
        "\n",
        "train_images = mnist.train_images()\n",
        "train_labels = mnist.train_labels()\n",
        "\n",
        "example = (train_labels[0], train_images[0])\n",
        "plt.imshow(example[1])\n",
        "plt.show()\n",
        "print(example[0])"
      ],
      "execution_count": 0,
      "outputs": [
        {
          "output_type": "stream",
          "text": [
            "Requirement already satisfied: mnist in /usr/local/lib/python3.6/dist-packages (0.2.2)\n",
            "Requirement already satisfied: numpy in /usr/local/lib/python3.6/dist-packages (from mnist) (1.16.5)\n"
          ],
          "name": "stdout"
        },
        {
          "output_type": "display_data",
          "data": {
            "image/png": "[encoded data removed]",
            "text/plain": [
              "<Figure size 432x288 with 1 Axes>"
            ]
          },
          "metadata": {
            "tags": []
          }
        },
        {
          "output_type": "stream",
          "text": [
            "5\n"
          ],
          "name": "stdout"
        }
      ]
    },
    {
      "cell_type": "markdown",
      "metadata": {
        "id": "F5ZSIa81g1gy",
        "colab_type": "text"
      },
      "source": [
        "## Convolution\n",
        "\n",
        "First step in a CNN is to apply convolution to the input. Convolution is the process of reducing the complexity of the image and extracting the important features out of the input.\n",
        "\n",
        "### Filters\n",
        "A `filter` is used to accomplish this step, a square matrix of values of the same depth as the input is applied onto the image at every pixel (excluding the edges) and its neighbours through element-wise multiplication, with the results summed up, giving the pixel value for the new image. \n",
        "\n",
        "For a coloured image,  the filter will generally be a 3d matrix, as coloured images uses RGB channels, with means that they have a depth of 3, or 4 if RGBA. The depth of the filter should always be the same as the depth of the image.\n",
        "\n",
        "For this project, I'll be using a 3x3x1 matrix, as the inputs are simple black and white images. A typical CNN may have many filters, but since the image set is fairly simple, I'll be using 2 filter layers.\n",
        "\n",
        "#### Stride\n",
        "\n",
        "Stride decides how a filter is applied to the image, it is how many steps to skip when moving from 1 pixel to the next when applying the filters, both horizontally and vertially. A stride of more than 1 will reduce the size if the image, so it's useful for large images.\n",
        "\n",
        "A stride of 1 is called `no stride`, which is what I'll be using for this project as the images are small to begin with, and a larger stride to cause a loss of information.\n",
        "\n",
        "#### Paddings\n",
        "After the filter is applied, the resulting image will be smaller than the original image, this is typically not a problem unless the filters are relatively large. Having no padding is call `valid padding`.\n",
        "\n",
        "If the same image size was to be kept, then a padding of 0s can be added to the edge of the input image, with more paddings added depending on the matrix size, this is called `same padding`.\n",
        "\n",
        "For this project, I'll be using `valid padding` as there'll likely be no loss of information with losing a few pixels at the border.\n",
        "\n"
      ]
    },
    {
      "cell_type": "markdown",
      "metadata": {
        "id": "6MCqMbNI_zPX",
        "colab_type": "text"
      },
      "source": [
        "### Example of Sobel Filter applied to an image"
      ]
    },
    {
      "cell_type": "code",
      "metadata": {
        "id": "jqu-xERFlgCj",
        "colab_type": "code",
        "outputId": "f440f87a-9e99-4fcd-d118-004f32b2b0ce",
        "colab": {
          "base_uri": "https://localhost:8080/",
          "height": 303
        }
      },
      "source": [
        "sobel_filter = [\n",
        "    [-1, 0, 1],\n",
        "    [-2, 0, 2],\n",
        "    [-1, 0, 1]\n",
        "]\n",
        "\n",
        "example_h, example_w = example[1].shape\n",
        "print(\"size of original image:\", example[1].shape)\n",
        "\n",
        "example_conv = np.zeros((example_h - 2, example_w - 2))\n",
        "\n",
        "for i in range(example_h - 2): \n",
        "  for j in range(example_w - 2):\n",
        "    example_region = example[1][i:i+3, j:j+3] # taking a 3x3 image region\n",
        "    \n",
        "    # applying the filter, summing them, then apply the new value the pixel location\n",
        "    example_conv[i, j] = np.sum(example_region * sobel_filter)\n",
        "\n",
        "\n",
        "print(\"size of image after convolution:\", example_conv.shape)\n",
        "plt.imshow(example_conv)\n",
        "plt.show()\n"
      ],
      "execution_count": 0,
      "outputs": [
        {
          "output_type": "stream",
          "text": [
            "size of original image: (28, 28)\n",
            "size of image after convolution: (26, 26)\n"
          ],
          "name": "stdout"
        },
        {
          "output_type": "display_data",
          "data": {
            "image/png": "[encoded data removed]",
            "text/plain": [
              "<Figure size 432x288 with 1 Axes>"
            ]
          },
          "metadata": {
            "tags": []
          }
        }
      ]
    },
    {
      "cell_type": "markdown",
      "metadata": {
        "id": "TS5vi1aA8tdi",
        "colab_type": "text"
      },
      "source": [
        "### Feed Forward\n",
        "\n",
        "Once the filter is applied, the output image is then feed forward into the next layer, and the input is remembered for later, once the loss is calculated.\n",
        "\n",
        "### Back Propagation\n",
        "\n",
        "Because this is the first layer in our neural network, there's nothing further back to pass it to. However, it still takes information regarding the loss gradient of this layer's output and apply it to the filter weight. Because the filter is applied to all pixels of the image, any small change in its weighting changes what the output value is once the filter is applied to the original image. \n",
        "\n",
        "The size of the change is determined by the `learning rate`, which scales the changes to a degree that is suitable for the CNN to learn. A smaller learning rate would mean more precision, but also more time spent training, while too large of a learning rate may never reach its target."
      ]
    },
    {
      "cell_type": "markdown",
      "metadata": {
        "id": "G-pd-m8c2bUQ",
        "colab_type": "text"
      },
      "source": [
        "\n",
        "### Convolution Code"
      ]
    },
    {
      "cell_type": "code",
      "metadata": {
        "id": "_nwYamAIRwDh",
        "colab_type": "code",
        "colab": {}
      },
      "source": [
        "class Convolution:\n",
        "\n",
        "  def __init__(self, num_filters, filter_size=None):\n",
        "    # defaults to a filter size of 3\n",
        "    if filter_size == None:\n",
        "      filter_size = 3\n",
        "    \n",
        "    self.filter_size = filter_size\n",
        "    self.num_filters = num_filters\n",
        "\n",
        "    # filters: 3d array of dimensions (num_filters, filter_size, filter_size)\n",
        "    # divide by filter_size^2 to reduce the variance of our initial values\n",
        "    self.filters = \\\n",
        "    np.random.randn(num_filters, filter_size, filter_size) / (filter_size ** 2)\n",
        "\n",
        "  def iterate_regions(self, image):\n",
        "    '''\n",
        "    Generates all possible 3x3 image regions using valid padding.\n",
        "    - image is a 2d numpy array\n",
        "    '''\n",
        "    h, w = image.shape\n",
        "\n",
        "    for i in range(h - self.filter_size + 1):\n",
        "      for j in range(w - self.filter_size + 1):\n",
        "        im_region = image[i:(i + self.filter_size), j:(j + self.filter_size)]\n",
        "        \n",
        "        # Using a generator instead of returning an array for memory efficiency\n",
        "        yield im_region, i, j \n",
        "\n",
        "  def forward(self, input):\n",
        "    '''\n",
        "    Performs a forward pass of the conv layer using the given input.\n",
        "    Returns a 3d numpy array with dimensions (h, w, num_filters).\n",
        "    - input is a 2d numpy array\n",
        "    '''\n",
        "    self.last_input = input\n",
        "    \n",
        "    h, w = input.shape\n",
        "    output = \\\n",
        "    np.zeros((h - self.filter_size + 1, w - self.filter_size + 1, self.num_filters))\n",
        "\n",
        "    for im_region, i, j in self.iterate_regions(input):\n",
        "      output[i, j] = np.sum(im_region * self.filters, axis=(1, 2))\n",
        "    return output\n",
        "  \n",
        "  def backprop(self, loss_out, learn_rate):\n",
        "    '''\n",
        "    Performs a backward pass of the convolution layer\n",
        "    loss_out: a 3d numpy array, the loss gradient of this layer's outputs\n",
        "    learn_rate: percision in the steps to take when learning\n",
        "    '''\n",
        "    d_L_d_filters = np.zeros(self.filters.shape)\n",
        "\n",
        "    for im_region, i, j in self.iterate_regions(self.last_input):\n",
        "      for f in range(self.num_filters):\n",
        "        d_L_d_filters[f] += loss_out[i, j, f] * im_region\n",
        "\n",
        "    # Update filters\n",
        "    self.filters -= learn_rate * d_L_d_filters\n",
        "\n",
        "    # CNN first layer, does not go back further\n",
        "    return None"
      ],
      "execution_count": 0,
      "outputs": []
    },
    {
      "cell_type": "markdown",
      "metadata": {
        "id": "2wVrlRUog1r4",
        "colab_type": "text"
      },
      "source": [
        "## Pooling\n",
        "\n",
        "Pooling is the process of downsampling, reducing redundancy in the image pixel information, as neighbouring pixels tends to be of similar values. \n",
        "\n",
        "There are generally 3 types of pooling:\n",
        "\n",
        "- max pooling\n",
        "- min pooling\n",
        "- avarage pooling\n",
        "\n",
        "All these are essentially applying a filter over generally non-overlapping regions. \n",
        "\n",
        "In our case, `max pooling` with a 2x2 filter and stride 2, the max value of 2x2 region is taken as assigned as new new pixel value, and then the filter is applied 2 steps away horizontally and veritically until all pixels are pooled.\n"
      ]
    },
    {
      "cell_type": "markdown",
      "metadata": {
        "id": "j1wvbMt9Ns-5",
        "colab_type": "text"
      },
      "source": [
        "### Pooling 2x2 with Stride 2 Example"
      ]
    },
    {
      "cell_type": "code",
      "metadata": {
        "id": "2uqlIys_NyD5",
        "colab_type": "code",
        "outputId": "3acb14df-56e4-45f5-882a-cece0a364257",
        "colab": {
          "base_uri": "https://localhost:8080/",
          "height": 303
        }
      },
      "source": [
        "example_h, example_w = example_conv.shape\n",
        "example_h = example_h // 2\n",
        "example_w = example_w // 2\n",
        "\n",
        "print(\"size of original image:\", example_conv.shape)\n",
        "\n",
        "example_pool = np.zeros((example_h, example_w))\n",
        "\n",
        "for i in range(example_h): \n",
        "  for j in range(example_w):\n",
        "    # taking a 2x2 image region with stride 2\n",
        "    example_region = example[1][(2 * i):(2 * i + 2), (2 * j):(2 * j + 2)] \n",
        "    \n",
        "    # get the max value in the array\n",
        "    example_pool[i, j] = np.amax(example_region)\n",
        "\n",
        "\n",
        "print(\"size of image after pooling:\", example_pool.shape)\n",
        "plt.imshow(example_pool)\n",
        "plt.show()"
      ],
      "execution_count": 0,
      "outputs": [
        {
          "output_type": "stream",
          "text": [
            "size of original image: (26, 26)\n",
            "size of image after pooling: (13, 13)\n"
          ],
          "name": "stdout"
        },
        {
          "output_type": "display_data",
          "data": {
            "image/png": "[encoded data removed]",
            "text/plain": [
              "<Figure size 432x288 with 1 Axes>"
            ]
          },
          "metadata": {
            "tags": []
          }
        }
      ]
    },
    {
      "cell_type": "markdown",
      "metadata": {
        "id": "7yBJwhyC1WLd",
        "colab_type": "text"
      },
      "source": [
        "### Feed Forward\n",
        "\n",
        "Takes the input from the convolution layer and applies 2x2 max pooling on each non-overlapping image region, resulting in halving the size of the image, but the same depth.\n",
        "\n",
        "### Back Propagation\n",
        "\n",
        "Max pooling actually does not use any weights as it directly takes the max values of each region, however, it is still necessary to assign the loss gradient to where the orginal max value was so that it can be used by the convolutional layer."
      ]
    },
    {
      "cell_type": "markdown",
      "metadata": {
        "id": "AbPA8zm92mcS",
        "colab_type": "text"
      },
      "source": [
        "### Pooling Code"
      ]
    },
    {
      "cell_type": "code",
      "metadata": {
        "id": "SSLmtjeQOv_P",
        "colab_type": "code",
        "colab": {}
      },
      "source": [
        "class Pooling:\n",
        "  # A Max Pooling layer using a pool size of 2\n",
        "\n",
        "  def iterate_regions(self, image):\n",
        "    '''\n",
        "    Generates non-overlapping 2x2 image regions to pool over.\n",
        "    - image is a 2d numpy array\n",
        "    '''\n",
        "    h, w, _ = image.shape\n",
        "    new_h = h // 2\n",
        "    new_w = w // 2\n",
        "\n",
        "    for i in range(new_h):\n",
        "      for j in range(new_w):\n",
        "        im_region = image[(i * 2):(i * 2 + 2), (j * 2):(j * 2 + 2)]\n",
        "        yield im_region, i, j\n",
        "  \n",
        "  def forward(self, input):\n",
        "    '''\n",
        "    Performs a forward pass of the maxpool layer using the given input.\n",
        "    Returns a 3d numpy array with dimensions (h / 2, w / 2, num_filters).\n",
        "    - input is a 3d numpy array with dimensions (h, w, num_filters)\n",
        "    '''\n",
        "    self.last_input = input\n",
        "      \n",
        "    h, w, num_filters = input.shape\n",
        "    output = np.zeros((h // 2, w // 2, num_filters))\n",
        "\n",
        "    for im_region, i, j in self.iterate_regions(input):\n",
        "      output[i, j] = np.amax(im_region, axis=(0, 1))\n",
        "    return output\n",
        "\n",
        "  def backprop(self, d_L_d_out):\n",
        "    '''\n",
        "    Performs a backward pass of the maxpool layer.\n",
        "    Returns the loss gradient for this layer's inputs.\n",
        "    - d_L_d_out is the loss gradient for this layer's outputs.\n",
        "    '''\n",
        "    d_L_d_input = np.zeros(self.last_input.shape)\n",
        "\n",
        "    for im_region, i, j in self.iterate_regions(self.last_input):\n",
        "      h, w, f = im_region.shape\n",
        "      amax = np.amax(im_region, axis=(0, 1))\n",
        "\n",
        "      for i2 in range(h):\n",
        "        for j2 in range(w):\n",
        "          for f2 in range(f):\n",
        "            # If this pixel was the max value, copy the gradient to it.\n",
        "            if im_region[i2, j2, f2] == amax[f2]:\n",
        "              d_L_d_input[i * 2 + i2, j * 2 + j2, f2] = d_L_d_out[i, j, f2]\n",
        "    \n",
        "    return d_L_d_input\n"
      ],
      "execution_count": 0,
      "outputs": []
    },
    {
      "cell_type": "markdown",
      "metadata": {
        "id": "6P03YP99g5SJ",
        "colab_type": "text"
      },
      "source": [
        "## Fully Connected Layer\n",
        "\n",
        "The fully connected layer takes the output from the pooling layer and produces a vector of N size, where N is the number of classes. Each value in the vector represents the probability of of the input being of that class.\n",
        "\n",
        "The class with the highest probability is chosen as the final prediction, but having the probability value for the actual correct class allows us to better calculate loss. \n",
        "\n",
        "There are many ways to calculate loss, two most notable being Mean Squared Error (MSE) and Cross-Entropy loss. Cross-Entropy is overall better performing for CNNs, being a more punishing loss calculation, which is what I'll be using.\n",
        "\n",
        "### Cross-Entropy Loss\n",
        "\n",
        "Cross-entropy loss is also known as log loss. It measures the performance of probability values between 0-1. The loss increases exponentially the lower the correct prediction is. This is a crucial step in letting the CNN understand what it did wrong and how much it is wrong by, using the current weights.\n",
        "\n",
        "It's calculated by `L=-ln(p)`, where `L` is loss, and `p` is predicted probability of the correct class.\n",
        "\n",
        "\n",
        "### Softmax Activation Function\n",
        "\n",
        "Softmax is a function that converts a vector of values into to the range of 0-1, with the sum adding up to one, which allows to calculate for the cross entropy loss of the predictions\n",
        "\n",
        "It does so by raising each value(`i`) in the vector in `e^i`, using that as the numerator, and then using the sum of `e^i` for all values in the vector as the demoniator."
      ]
    },
    {
      "cell_type": "markdown",
      "metadata": {
        "id": "fM19fn-jsxgL",
        "colab_type": "text"
      },
      "source": [
        "### Softmax Example with Loss\n",
        "\n",
        "This is akin to random guessing as the weights are not properly trained, and there are no biases towards any value based on training."
      ]
    },
    {
      "cell_type": "code",
      "metadata": {
        "id": "odzHrBY5s8Jc",
        "colab_type": "code",
        "outputId": "032f6f7e-ff41-4a19-fd9d-3af5c50079a6",
        "colab": {
          "base_uri": "https://localhost:8080/",
          "height": 102
        }
      },
      "source": [
        "example_softmax = example_pool.flatten() # flattened as the extra dimentionality are not useful\n",
        "\n",
        "# 10 classes, one for each digit\n",
        "example_weights = np.random.randn(example_softmax.size, 10) / example_softmax.size \n",
        "\n",
        "example_totals = np.dot(example_softmax, example_weights)\n",
        "\n",
        "# raise all values by exponential\n",
        "example_exp = np.exp(example_totals)\n",
        "# divide each individual value in respect to sum\n",
        "example_classification = example_exp / np.sum(example_exp)\n",
        "\n",
        "np.set_printoptions(precision=3, suppress=True)\n",
        "print(\"vector of predictions:\\n\", example_classification)\n",
        "\n",
        "np.set_printoptions(precision=None, suppress=False)\n",
        "print(\"prediction:\", np.argmax(example_classification))\n",
        "print(\"actual:\", example[0])\n",
        "\n",
        "# L = -log(p)\n",
        "example_loss = -np.log(example_classification[example[0]]) \n",
        "print(\"loss:\", example_loss)"
      ],
      "execution_count": 0,
      "outputs": [
        {
          "output_type": "stream",
          "text": [
            "vector of predictions:\n",
            " [0. 0. 0. 0. 0. 0. 1. 0. 0. 0.]\n",
            "prediction: 6\n",
            "actual: 5\n",
            "loss: 18.7156095927266\n"
          ],
          "name": "stdout"
        }
      ]
    },
    {
      "cell_type": "markdown",
      "metadata": {
        "id": "RvNBr6qE4wuf",
        "colab_type": "text"
      },
      "source": [
        "### Feed Forward\n",
        "\n",
        "The input is flattened, and a value is assigned to each of the 10 classes based on the weights and biases. The prediction is scaled by softmax activation and the result is returned.\n",
        "\n",
        "### Back Propagation\n",
        "\n",
        "A vector is passed into function with only theintial gradient for predictions for the correct class containing the value of the softmax outputs. \n",
        "\n",
        "The loss gradient is then calculated for all other classes through taking the derivative of the correct class prediction over the the respective classes with the equation `-e^t_c * -e^t_k / S^2`, where `e^t_c` is the exponential for the correct class, and `e^t_k`is the exponential for the incorrect classes, and S is the sum of the exponentials.\n",
        "\n",
        "The loss gradient for the correct class is gotten through `e^t_c * (S - e^t_c) / S^2`, with the same variables as above.\n",
        "\n",
        "After getting the loss gradient for each prediction, they are then used to calculate the following:\n",
        "\n",
        "- weight graidnet, `d_L/d_w`\n",
        "- biases gradient, `d_L/d_b`\n",
        "- input gradient, `d_L/d_input`\n",
        "\n",
        "the weight gradients and biases gradients are used to update the softmax activation's values, while the input gradient is passed alone into the pooling layer for further breakdown."
      ]
    },
    {
      "cell_type": "markdown",
      "metadata": {
        "id": "L1ZUbFtys88u",
        "colab_type": "text"
      },
      "source": [
        "### Softmax Activation Code"
      ]
    },
    {
      "cell_type": "code",
      "metadata": {
        "id": "HilJ8G45ZkQE",
        "colab_type": "code",
        "colab": {}
      },
      "source": [
        "class Softmax:\n",
        "  # A standard fully-connected layer with softmax activation.\n",
        "\n",
        "  def __init__(self, input_len, nodes):\n",
        "    # We divide by input_len to reduce the variance of our initial values\n",
        "    self.weights = np.random.randn(input_len, nodes) / input_len\n",
        "    self.biases = np.zeros(nodes)\n",
        "\n",
        "  def forward(self, input):\n",
        "    '''\n",
        "    Performs a forward pass of the softmax layer using the given input.\n",
        "    Returns a 1d numpy array containing the respective probability values.\n",
        "    - input can be any array with any dimensions.\n",
        "    '''\n",
        "    self.last_input_shape = input.shape\n",
        "    \n",
        "    input = input.flatten()\n",
        "    self.last_input = input\n",
        "    input_len, nodes = self.weights.shape\n",
        "\n",
        "    # Makes prediction\n",
        "    totals = np.dot(input, self.weights) + self.biases\n",
        "    self.last_totals = totals\n",
        "    \n",
        "    # Scales prediction by e^totals\n",
        "    exp = np.exp(totals)\n",
        "    # e^totals / sum(e^totals)\n",
        "    return exp / np.sum(exp, axis=0)\n",
        "  \n",
        "  def backprop(self, d_L_d_out, learn_rate):    \n",
        "    '''\n",
        "    Performs a backward pass of the softmax layer.\n",
        "    Returns the loss gradient for this layer's inputs.\n",
        "    - d_L_d_out is the loss gradient for this layer's outputs.\n",
        "    - learn_rate is a float    \n",
        "    '''\n",
        "    # We know only 1 element of d_L_d_out will be nonzero\n",
        "    for i, gradient in enumerate(d_L_d_out):\n",
        "      if gradient == 0:\n",
        "        continue\n",
        "\n",
        "      # e^totals\n",
        "      t_exp = np.exp(self.last_totals)\n",
        "\n",
        "      # Sum of all e^totals\n",
        "      S = np.sum(t_exp)\n",
        "\n",
        "      # Gradients of out[i] against totals\n",
        "      d_out_d_t = -t_exp[i] * t_exp / (S ** 2)\n",
        "      d_out_d_t[i] = t_exp[i] * (S - t_exp[i]) / (S ** 2)\n",
        "\n",
        "      # Gradients of totals against weights/biases/input\n",
        "      d_t_d_w = self.last_input\n",
        "      d_t_d_b = 1\n",
        "      d_t_d_inputs = self.weights\n",
        "\n",
        "      # Gradients of loss against totals\n",
        "      d_L_d_t = gradient * d_out_d_t\n",
        "\n",
        "      # Gradients of loss against weights/biases/input\n",
        "      d_L_d_w = d_t_d_w[np.newaxis].T @ d_L_d_t[np.newaxis]\n",
        "      d_L_d_b = d_L_d_t * d_t_d_b\n",
        "      d_L_d_inputs = d_t_d_inputs @ d_L_d_t\n",
        "\n",
        "      # Update weights / biases      \n",
        "      self.weights -= learn_rate * d_L_d_w      \n",
        "      self.biases -= learn_rate * d_L_d_b       \n",
        "      return d_L_d_inputs.reshape(self.last_input_shape)"
      ],
      "execution_count": 0,
      "outputs": []
    },
    {
      "cell_type": "markdown",
      "metadata": {
        "id": "r_XApUFIAAlQ",
        "colab_type": "text"
      },
      "source": [
        "## Training\n",
        "\n",
        "Training is arguably the most crucial part as it ties everything together, and teaches the CNN on what to look for and what values to have in the filters and weights.\n",
        "\n",
        "The training process is done through `back propagation`, where the loss is calculated for the predictions and passed back through each layer for them to readjust their weight values towards better accuracy. \n",
        "\n",
        "The more accurate their predictions are, the less they would have to adjust in value, due to the nature of Cross-Entropy loss.\n",
        "\n",
        "The training is done in 3 `epochs`, which means 3 forward pass and backwards pass of all the examples. With each epoch containing a thousand training samples."
      ]
    },
    {
      "cell_type": "markdown",
      "metadata": {
        "id": "VaL7mwmcfm8i",
        "colab_type": "text"
      },
      "source": [
        "### Training Code"
      ]
    },
    {
      "cell_type": "code",
      "metadata": {
        "id": "NXi4r49J9BxR",
        "colab_type": "code",
        "outputId": "b8a3a8e6-c873-4760-eeab-12829e2310a5",
        "colab": {
          "base_uri": "https://localhost:8080/",
          "height": 578
        }
      },
      "source": [
        "# Using the first thousand for demonstration\n",
        "train_images = mnist.train_images()[:1000]\n",
        "train_labels = mnist.train_labels()[:1000]\n",
        "test_images = mnist.test_images()[:1000]\n",
        "test_labels = mnist.test_labels()[:1000]\n",
        "\n",
        "num_filters = 3\n",
        "\n",
        "conv = Convolution(num_filters)                  # 28x28x1 -> 26x26x8\n",
        "pool = Pooling()                  # 26x26x8 -> 13x13x8\n",
        "softmax = Softmax(13 * 13 * num_filters, 10) # 13x13x8 -> 10\n",
        "\n",
        "def forward(image, label):\n",
        "  '''\n",
        "  Completes a forward pass of the CNN and calculates the accuracy and\n",
        "  cross-entropy loss.\n",
        "  - image is a 2d numpy array\n",
        "  - label is a digit\n",
        "  '''\n",
        "  # We transform the image from [0, 255] to [-0.5, 0.5] to make it easier\n",
        "  # to work with. This is standard practice.\n",
        "  out = conv.forward((image / 255) - 0.5)\n",
        "  out = pool.forward(out)\n",
        "  out = softmax.forward(out)\n",
        "\n",
        "  # Calculate cross-entropy loss and accuracy\n",
        "  loss = -np.log(out[label])\n",
        "  acc = 1 if np.argmax(out) == label else 0\n",
        "\n",
        "  return out, loss, acc\n",
        "\n",
        "def train(im, label, lr=.005):\n",
        "  '''\n",
        "  Completes a full training step on the given image and label.\n",
        "  Returns the cross-entropy loss and accuracy.\n",
        "  - image is a 2d numpy array\n",
        "  - label is a digit\n",
        "  - lr is the learning rate\n",
        "  '''\n",
        "  out, loss, acc = forward(im, label)\n",
        "\n",
        "  # Calculate initial gradient\n",
        "  gradient = np.zeros(10)\n",
        "  gradient[label] = -1 / out[label]\n",
        "\n",
        "  # Backprop\n",
        "  gradient = softmax.backprop(gradient, lr)\n",
        "  gradient = pool.backprop(gradient)\n",
        "  gradient = conv.backprop(gradient, lr)\n",
        "\n",
        "  return loss, acc\n",
        "\n",
        "\n",
        "# Train the CNN for 3 epochs\n",
        "for epoch in range(3):\n",
        "  print('--- Epoch %d ---' % (epoch + 1))\n",
        "\n",
        "  # Shuffle the training data\n",
        "  permutation = np.random.permutation(len(train_images))\n",
        "  train_images = train_images[permutation]\n",
        "  train_labels = train_labels[permutation]\n",
        "\n",
        "  # Train!\n",
        "  loss = 0\n",
        "  num_correct = 0\n",
        "  for i, (im, label) in enumerate(zip(train_images, train_labels)):\n",
        "    if i > 0 and i % 100 == 99:\n",
        "      print(\n",
        "        '[Step %d] Past 100 steps: Average Loss %.3f | Accuracy: %d%%' %\n",
        "        (i + 1, loss / 100, num_correct)\n",
        "      )\n",
        "      loss = 0\n",
        "      num_correct = 0\n",
        "\n",
        "    l, acc = train(im, label)\n",
        "    loss += l\n",
        "    num_correct += acc"
      ],
      "execution_count": 0,
      "outputs": [
        {
          "output_type": "stream",
          "text": [
            "--- Epoch 1 ---\n",
            "[Step 100] Past 100 steps: Average Loss 2.274 | Accuracy: 12%\n",
            "[Step 200] Past 100 steps: Average Loss 2.198 | Accuracy: 22%\n",
            "[Step 300] Past 100 steps: Average Loss 2.009 | Accuracy: 34%\n",
            "[Step 400] Past 100 steps: Average Loss 1.458 | Accuracy: 59%\n",
            "[Step 500] Past 100 steps: Average Loss 1.172 | Accuracy: 62%\n",
            "[Step 600] Past 100 steps: Average Loss 0.839 | Accuracy: 77%\n",
            "[Step 700] Past 100 steps: Average Loss 0.748 | Accuracy: 77%\n",
            "[Step 800] Past 100 steps: Average Loss 0.632 | Accuracy: 77%\n",
            "[Step 900] Past 100 steps: Average Loss 0.684 | Accuracy: 77%\n",
            "[Step 1000] Past 100 steps: Average Loss 0.879 | Accuracy: 71%\n",
            "--- Epoch 2 ---\n",
            "[Step 100] Past 100 steps: Average Loss 0.561 | Accuracy: 83%\n",
            "[Step 200] Past 100 steps: Average Loss 0.586 | Accuracy: 77%\n",
            "[Step 300] Past 100 steps: Average Loss 0.655 | Accuracy: 82%\n",
            "[Step 400] Past 100 steps: Average Loss 0.470 | Accuracy: 83%\n",
            "[Step 500] Past 100 steps: Average Loss 0.577 | Accuracy: 82%\n",
            "[Step 600] Past 100 steps: Average Loss 0.474 | Accuracy: 85%\n",
            "[Step 700] Past 100 steps: Average Loss 0.502 | Accuracy: 84%\n",
            "[Step 800] Past 100 steps: Average Loss 0.680 | Accuracy: 79%\n",
            "[Step 900] Past 100 steps: Average Loss 0.519 | Accuracy: 80%\n",
            "[Step 1000] Past 100 steps: Average Loss 0.567 | Accuracy: 82%\n",
            "--- Epoch 3 ---\n",
            "[Step 100] Past 100 steps: Average Loss 0.361 | Accuracy: 85%\n",
            "[Step 200] Past 100 steps: Average Loss 0.537 | Accuracy: 84%\n",
            "[Step 300] Past 100 steps: Average Loss 0.420 | Accuracy: 87%\n",
            "[Step 400] Past 100 steps: Average Loss 0.459 | Accuracy: 88%\n",
            "[Step 500] Past 100 steps: Average Loss 0.477 | Accuracy: 86%\n",
            "[Step 600] Past 100 steps: Average Loss 0.580 | Accuracy: 82%\n",
            "[Step 700] Past 100 steps: Average Loss 0.294 | Accuracy: 91%\n",
            "[Step 800] Past 100 steps: Average Loss 0.452 | Accuracy: 84%\n",
            "[Step 900] Past 100 steps: Average Loss 0.367 | Accuracy: 87%\n",
            "[Step 1000] Past 100 steps: Average Loss 0.430 | Accuracy: 91%\n"
          ],
          "name": "stdout"
        }
      ]
    },
    {
      "cell_type": "code",
      "metadata": {
        "id": "bF2-yjaBvetl",
        "colab_type": "code",
        "outputId": "49ef58f4-005b-4f28-bf21-d406ed830e7d",
        "colab": {
          "base_uri": "https://localhost:8080/",
          "height": 85
        }
      },
      "source": [
        "# Test the CNN\n",
        "print('\\n--- Testing the CNN ---')\n",
        "loss = 0\n",
        "num_correct = 0\n",
        "for im, label in zip(test_images, test_labels):\n",
        "  _, l, acc = forward(im, label)\n",
        "  loss += l\n",
        "  num_correct += acc\n",
        "\n",
        "num_tests = len(test_images)\n",
        "print('Test Loss:', loss / num_tests)\n",
        "print('Test Accuracy:', num_correct / num_tests)"
      ],
      "execution_count": 0,
      "outputs": [
        {
          "output_type": "stream",
          "text": [
            "\n",
            "--- Testing the CNN ---\n",
            "Test Loss: 0.524555431820456\n",
            "Test Accuracy: 0.83\n"
          ],
          "name": "stdout"
        }
      ]
    },
    {
      "cell_type": "code",
      "metadata": {
        "id": "RZO6tbm36dsN",
        "colab_type": "code",
        "outputId": "984ebdfd-a3bb-4681-ed44-669d41c2babd",
        "colab": {
          "base_uri": "https://localhost:8080/",
          "height": 51
        }
      },
      "source": [
        "pred, l, acc = forward(example[1], example[0])\n",
        "\n",
        "print(\"predicted:\", np.argmax(pred))\n",
        "print(\"actual:\", example[0])"
      ],
      "execution_count": 0,
      "outputs": [
        {
          "output_type": "stream",
          "text": [
            "predicted: 5\n",
            "actual: 5\n"
          ],
          "name": "stdout"
        }
      ]
    },
    {
      "cell_type": "markdown",
      "metadata": {
        "id": "d1SALdFo6KSm",
        "colab_type": "text"
      },
      "source": [
        "# Summary\n",
        "\n",
        "Although the CNN does not produce the most accurate result, and there's still a lot to improve on, the success of this CNN implementation is undeniable. With an accuracy of around 90%, the prediction has a lot to improve still, but even so, it works well enough for its intended purpose.\n",
        "\n",
        "Some improvements could be made with the structure of the CNN, possibly following AlexNet structure or LeNet would prove to produce better results, or perhaps simply adding more layers would improve the results."
      ]
    },
    {
      "cell_type": "markdown",
      "metadata": {
        "id": "3TIyPI7SnIvA",
        "colab_type": "text"
      },
      "source": [
        "# Social and Ethical Complications\n",
        "\n",
        "General applications of a Convolutional Neural Network is in the genre related to image classification, this can also include object detection, facial recognition and so on. \n",
        "\n",
        "There's a lot of good that it can do and has done for society so far, with one example being Optical Character Recognition (OCR), which is not too different from what this project does. OCR has significantly improved with CNNs and allows for much simplier and streamlined process for processing handwritten documents. \n",
        "\n",
        "CNN's application in medical imaging is very notable, as a well trained CNN algorithm is able to classify imagings containing signs of lung disease (Q. Li et al. 2014), with different applications of the algorithms being able achieve many things for the medical field.\n",
        "\n",
        "However, with advancement of technology comes abuse of said technology. CNN's potential for misuse is quite high. Just recently there's 2 apps developed using Generative Adversarial Networks (GANs) called DeepFake and DeepNude. Both applications allows the user to unconcentially replace the image of someone with something different, while keeping certain recognisable characteristics, with DeepNude being more malicious in its design than DeepFake. Both applications, although not directly utilising CNNs, demonstrates the possible misuse in image classification techniques such as CNN. This is not to mention the possibilities of using facial recognition implemented with CNN for unconsential monitoring of other.\n",
        "\n",
        "Algorithms like CNN ultimately does more good in making people easier and potentially saving people's lives. But when implementing such algorithms, it's imperitive to review your intentions, following the Kantian ideal of ethics. "
      ]
    },
    {
      "cell_type": "markdown",
      "metadata": {
        "id": "kbi4M4kHoET8",
        "colab_type": "text"
      },
      "source": [
        "# References\n",
        "\n",
        "Q. Li, W. Cai, X. Wang, Y. Zhou, D. D. Feng and M. Chen, \"Medical image classification with convolutional neural network,\" *2014 13th International Conference on Control Automation Robotics & Vision (ICARCV)*, Singapore, 2014, pp. 844-848.\n",
        "\n",
        "Zhou, V. (2019). CNNs, Part 1: An Introduction to Convolutional Neural Networks. [online] Victorzhou.com. Available at: *https://victorzhou.com/blog/intro-to-cnns-part-1/*"
      ]
    },
    {
      "cell_type": "markdown",
      "metadata": {
        "id": "xhfVOj7xo6bd",
        "colab_type": "text"
      },
      "source": [
        "# Links\n",
        "\n",
        "Github:\n",
        "https://github.com/AmethystProductions/UTS_ML_2019/blob/master/Assignment_2_CNN.ipynb\n",
        "\n",
        "Youtube:\n",
        "https://youtu.be/BI0gjb2KKWM"
      ]
    }
  ]
}